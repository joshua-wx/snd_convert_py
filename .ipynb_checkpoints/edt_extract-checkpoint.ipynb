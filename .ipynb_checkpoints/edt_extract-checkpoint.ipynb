{
 "cells": [
  {
   "cell_type": "code",
   "execution_count": 5,
   "id": "53e5cea3-3895-44ac-b9ef-23ab8c2df4fc",
   "metadata": {},
   "outputs": [],
   "source": [
    "import pandas as pd\n",
    "import numpy as np\n",
    "import csv\n",
    "from datetime import datetime"
   ]
  },
  {
   "cell_type": "code",
   "execution_count": null,
   "id": "10c7849d-eafa-4b3d-9255-b0afaebefc6b",
   "metadata": {},
   "outputs": [],
   "source": [
    "\"\"\"\n",
    "Converts the BOM 2s EDT sounding data to various formats\n",
    "\n",
    "\"\"\""
   ]
  },
  {
   "cell_type": "code",
   "execution_count": 186,
   "id": "c3563b0b-95ac-4339-852c-63ee634c48de",
   "metadata": {},
   "outputs": [],
   "source": [
    "def read_csv(csv_ffn, header_line):\n",
    "    \"\"\"\n",
    "    CSV reader used for the radar locations file (comma delimited)\n",
    "    \n",
    "    Parameters:\n",
    "    ===========\n",
    "        csv_ffn: str\n",
    "            Full filename to csv file\n",
    "            \n",
    "        header_line: int or None\n",
    "            to use first line of csv as header = 0, use None to use column index\n",
    "            \n",
    "    Returns:\n",
    "    ========\n",
    "        as_dict: dict\n",
    "            csv columns are dictionary\n",
    "    \n",
    "    \"\"\"\n",
    "    df = pandas.read_csv(csv_ffn, header=header_line, skipinitialspace=True)\n",
    "    as_dict = df.to_dict(orient='list')\n",
    "    return as_dict\n",
    "\n",
    "def vappres(t):\n",
    "    '''\n",
    "    Returns the vapor pressure of dry air at given temperature\n",
    "    Parameters\n",
    "    ------\n",
    "    t : number, numpy array\n",
    "        Temperature of the parcel (C)\n",
    "    Returns\n",
    "    -------\n",
    "    Vapor Pressure of dry air\n",
    "    '''\n",
    "    pol = t * (1.1112018e-17 + (t * -3.0994571e-20))\n",
    "    pol = t * (2.1874425e-13 + (t * (-1.789232e-15 + pol)))\n",
    "    pol = t * (4.3884180e-09 + (t * (-2.988388e-11 + pol)))\n",
    "    pol = t * (7.8736169e-05 + (t * (-6.111796e-07 + pol)))\n",
    "    pol = 0.99999683 + (t * (-9.082695e-03 + pol))\n",
    "    return 6.1078 / pol**8\n",
    "\n",
    "def mixratio(p, t):\n",
    "    '''\n",
    "    Returns the mixing ratio (g/kg) of a parcel\n",
    "    Parameters\n",
    "    ----------\n",
    "    p : number, numpy array\n",
    "        Pressure of the parcel (hPa)\n",
    "    t : number, numpy array\n",
    "        Temperature of the parcel (hPa)\n",
    "    Returns\n",
    "    -------\n",
    "    Mixing Ratio (g/kg) of the given parcel\n",
    "    '''\n",
    "    x = 0.02 * (t - 12.5 + (7500. / p))\n",
    "    wfw = 1. + (0.0000045 * p) + (0.0014 * x * x)\n",
    "    fwesw = wfw * vappres(t)\n",
    "    return 621.97 * (fwesw / (p - fwesw))\n",
    "\n",
    "def vec2comp(wdir, wspd):\n",
    "    '''\n",
    "    Underlying function that converts a vector to its components\n",
    "    Parameters\n",
    "    ----------\n",
    "    wdir : number, masked_array\n",
    "        Angle in meteorological degrees\n",
    "    wspd : number, masked_array\n",
    "        Magnitudes of wind vector\n",
    "    Returns\n",
    "    -------\n",
    "    u : number, masked_array (same as input)\n",
    "        U-component of the wind\n",
    "    v : number, masked_array (same as input)\n",
    "        V-component of the wind\n",
    "    '''\n",
    "    u = wspd * np.ma.sin(np.radians(wdir)) * -1\n",
    "    v = wspd * np.ma.cos(np.radians(wdir)) * -1\n",
    "    return u, v\n",
    "\n",
    "def find_data_start(ffn):\n",
    "    \"\"\"\n",
    "    This function finds the row where the 2sec header is\n",
    "    \"\"\"\n",
    "    with open(ffn, 'rt') as f:\n",
    "        data = f.readlines()\n",
    "    for i, line in enumerate(data):\n",
    "        if 'SIGNIFICANT LEVELS' in line:\n",
    "            return i\n",
    "    return None"
   ]
  },
  {
   "cell_type": "code",
   "execution_count": 180,
   "id": "66447d65-9e59-405e-ac1c-8a6edb4b4056",
   "metadata": {},
   "outputs": [],
   "source": [
    "output_folder = '/home/meso/Insync/onedrive/sync/projects/Hail/case_studies/20100306-melb/soundings'\n",
    "csv_ffn = '/home/meso/Insync/onedrive/sync/projects/Hail/case_studies/20100306-melb/soundings/EDT_517149210117535_20100385006523_SIG'"
   ]
  },
  {
   "cell_type": "code",
   "execution_count": 188,
   "id": "5f7d25b7-1b5f-4c0d-8aaa-d5b44beb6873",
   "metadata": {},
   "outputs": [
    {
     "name": "stdout",
     "output_type": "stream",
     "text": [
      "25\n",
      "[1000.2  998.9  997.6 ...   42.    41.9   41.9]\n"
     ]
    }
   ],
   "source": [
    "#read header\n",
    "rows_to_keep = [1,2]\n",
    "df = pd.read_csv(csv_ffn, skiprows = lambda x: x not in rows_to_keep, header=None)\n",
    "#get datetime\n",
    "date_str = '_'.join(df.iloc[0].values[0].split()[3:])\n",
    "launch_time = datetime.strptime(date_str, '%d/%m/%Y_%H:%M')\n",
    "#get wmo station\n",
    "station_id = df.iloc[1].values[0].split()[-1]\n",
    "\n",
    "#read data\n",
    "starting_row = find_data_start(csv_ffn) + 3 #offset from header to data\n",
    "colspecs = [(0, 7), (8, 14), (15, 21), (22, 28), (29, 33), (34, 39), (40, 46), (47, 53)]\n",
    "df = pd.read_fwf(csv_ffn, header=None, skiprows=starting_row, sep=' ', index_col=None, names=['pres','geop','temp','dwpt','rh','mixr','wnd_dir','wnd_spd'], colspecs=colspecs)\n",
    "pres = df['pres'].values\n",
    "geop = df['geop'].values\n",
    "temp = df['temp'].values\n",
    "dwpt = df['dwpt'].values\n",
    "mixr = df['mixr'].values\n",
    "rh   = df['rh'].values\n",
    "wnd_dir = df['wnd_dir'].values\n",
    "wnd_spd = df['wnd_spd'].values\n",
    "\n",
    "#replace nan\n",
    "pres[np.isnan(pres)] = -9999\n",
    "geop[np.isnan(geop)] = -9999\n",
    "temp[np.isnan(temp)] = -9999\n",
    "dwpt[np.isnan(dwpt)] = -9999\n",
    "mixr[np.isnan(mixr)] = -9999\n",
    "rh[np.isnan(rh)]     = -9999\n",
    "wnd_dir[np.isnan(wnd_dir)] = -9999\n",
    "wnd_spd[np.isnan(wnd_spd)] = -9999"
   ]
  },
  {
   "cell_type": "code",
   "execution_count": 182,
   "id": "ef45dda5-8293-4f04-9967-64e8d4a00ae4",
   "metadata": {},
   "outputs": [
    {
     "data": {
      "image/png": "[encoded data removed]",
      "text/plain": [
       "<Figure size 432x288 with 1 Axes>"
      ]
     },
     "metadata": {
      "needs_background": "light"
     },
     "output_type": "display_data"
    }
   ],
   "source": [
    "from matplotlib import pyplot as plt\n",
    "\n",
    "plt.plot(geop[0:500], temp[0:500])\n",
    "plt.grid()"
   ]
  },
  {
   "cell_type": "code",
   "execution_count": 183,
   "id": "7a1c3b91-0c3f-4b5c-8b7c-b300060cad62",
   "metadata": {},
   "outputs": [],
   "source": [
    "# #write out - numpy\n",
    "# oax_ffn = f'{output_folder}/{str(station_id)}_{launch_time.strftime(\"%Y%m%d_%H%M\")}.npz'\n",
    "# np.savez(oax_ffn, pres=pres, geop=geop, temp=temp, dwpt=dwpt, wnd_dir=wnd_dir, wnd_spd=wnd_spd)"
   ]
  },
  {
   "cell_type": "code",
   "execution_count": 184,
   "id": "d5cb940a-a7f9-4a0e-8f95-5b69969aa851",
   "metadata": {},
   "outputs": [],
   "source": [
    "#write out - sharppy OAX\n",
    "\n",
    "oax_ffn = f'{output_folder}/{str(station_id)}_{launch_time.strftime(\"%Y%m%d_%H%M\")}.oax'\n",
    "\n",
    "f = open(oax_ffn, 'w')\n",
    "writer = csv.writer(f)\n",
    "\n",
    "#write header\n",
    "writer.writerow(['%TITLE%'])\n",
    "writer.writerow([f' OAX   {launch_time.strftime(\"%y%m%d/%H%M\")}'])\n",
    "writer.writerow([])\n",
    "writer.writerow(['   LEVEL       HGHT       TEMP       DWPT       WDIR       WSPD'])\n",
    "writer.writerow(['-------------------------------------------------------------------'])\n",
    "writer.writerow(['%RAW%'])\n",
    "\n",
    "for i in range(len(pres)):\n",
    "    writer.writerow([f' {pres[i]:5.2f}',f'  {geop[i]:5.2f}',f'  {temp[i]:5.2f}',f'  {dwpt[i]:5.2f}',f'  {wnd_dir[i]:5.2f}',f'  {wnd_spd[i]:5.2f}'])\n",
    "\n",
    "#write footer\n",
    "writer.writerow(['%END%'])\n",
    "f.close()"
   ]
  },
  {
   "cell_type": "code",
   "execution_count": 185,
   "id": "89ef7474-4023-45e2-8f4f-43e26bb1e302",
   "metadata": {},
   "outputs": [],
   "source": [
    "# #write out - CM1\n",
    "\n",
    "# #declare filename\n",
    "# cm1_ffn = f'{output_folder}/{str(station_id)}_{launch_time.strftime(\"%Y%m%d_%H%M\")}.cm1'\n",
    "\n",
    "# #contstands\n",
    "# ROCP = 0.28571426       # R over Cp\n",
    "# ZEROCNK = 273.15        # Zero Celsius in Kelvins\n",
    "\n",
    "# #calculate u and v from wind_speed and direction\n",
    "# u,v = vec2comp(wnd_dir, wnd_spd)\n",
    "\n",
    "# #calculate theta\n",
    "# p2 = 1000 #standard reference pressure \n",
    "# theta = ((temp + ZEROCNK) * np.power((p2 / pres),ROCP)) - ZEROCNK\n",
    "\n",
    "# #calculate qv\n",
    "# qv = mixratio(pres, temp)\n",
    "\n",
    "# #write header\n",
    "# writefile=open(cm1_ffn,'w')\n",
    "# writefile.write(f'{pres[0]:5.2f} {theta[0]:5.2f} {qv[0]:5.2f} \\n')\n",
    "\n",
    "# #write data\n",
    "# for ii in range(len(geop)):\n",
    "#         writefile.write(f'{geop[ii]:5.2f} {theta[ii]:5.2f} {qv[ii]:5.2f} {u[ii]:5.2f} {v[ii]:5.2f} \\n')\n",
    "        \n",
    "# writefile.close()"
   ]
  },
  {
   "cell_type": "code",
   "execution_count": null,
   "id": "b8b865f2-261c-4a18-8dd6-c5c2153526fa",
   "metadata": {},
   "outputs": [],
   "source": []
  },
  {
   "cell_type": "code",
   "execution_count": null,
   "id": "d04e976a-19c3-405d-8e52-da4623c4cc3e",
   "metadata": {},
   "outputs": [],
   "source": []
  }
 ],
 "metadata": {
  "kernelspec": {
   "display_name": "Python 3 (ipykernel)",
   "language": "python",
   "name": "python3"
  },
  "language_info": {
   "codemirror_mode": {
    "name": "ipython",
    "version": 3
   },
   "file_extension": ".py",
   "mimetype": "text/x-python",
   "name": "python",
   "nbconvert_exporter": "python",
   "pygments_lexer": "ipython3",
   "version": "3.9.7"
  }
 },
 "nbformat": 4,
 "nbformat_minor": 5
}
